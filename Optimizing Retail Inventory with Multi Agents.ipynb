{
 "cells": [
  {
   "cell_type": "markdown",
   "id": "1c39fae9-6896-4089-a90d-59c0aeb4ee75",
   "metadata": {},
   "source": [
    "## Retail AI HiveMind: Multi-Agent System for Smart Inventory Optimization"
   ]
  },
  {
   "cell_type": "markdown",
   "id": "8249b4fa-feb7-490b-bd1f-6619251afb0b",
   "metadata": {},
   "source": [
    "# Importing Necessary Libraries for Data Processing and Machine Learning"
   ]
  },
  {
   "cell_type": "code",
   "execution_count": 196,
   "id": "761c5217-d3e2-4608-9167-0d7d7bad6cc4",
   "metadata": {},
   "outputs": [],
   "source": [
    "import pandas as pd\n",
    "import numpy as np\n",
    "from sklearn.linear_model import LinearRegression"
   ]
  },
  {
   "cell_type": "markdown",
   "id": "9debe48e-98f6-4ef9-b179-ca7eb7f299b8",
   "metadata": {},
   "source": [
    "# Step 1: Load Dataset"
   ]
  },
  {
   "cell_type": "code",
   "execution_count": 197,
   "id": "e22ccd57-b292-4c17-ac9c-61f0c8047d6d",
   "metadata": {},
   "outputs": [],
   "source": [
    "# The dataset contains 30 days of sales data. We use this to train a demand forecasting model.\n",
    "sales_data = pd.read_csv(\"C:\\\\Users\\\\SHASHANK\\\\OneDrive\\\\Documents\\\\Dezi dinner\\\\sales_data.csv\")"
   ]
  },
  {
   "cell_type": "code",
   "execution_count": 198,
   "id": "8a49d85c-555b-44db-ae57-ff1a023c78b1",
   "metadata": {},
   "outputs": [
    {
     "name": "stdout",
     "output_type": "stream",
     "text": [
      "   day  sales\n",
      "0    1    182\n",
      "1    2    194\n",
      "2    3    146\n",
      "3    4    124\n",
      "4    5    188\n"
     ]
    }
   ],
   "source": [
    "print(sales_data.head())  # Shows the first 5 rows"
   ]
  },
  {
   "cell_type": "markdown",
   "id": "9f95fad5-282c-473c-98ac-c2107c497037",
   "metadata": {},
   "source": [
    "# Step 2: Prepare Data for Machine Learning"
   ]
  },
  {
   "cell_type": "code",
   "execution_count": 199,
   "id": "f6074f88-b0e3-42e3-bd56-fa85fb2a9c66",
   "metadata": {},
   "outputs": [],
   "source": [
    "# The model will use the \"day\" column as input (X) and predict \"sales\" (y).\n",
    "X = sales_data[[\"day\"]]  # Independent variable (days)\n",
    "y = sales_data[\"sales\"]   # Dependent variable (sales data)"
   ]
  },
  {
   "cell_type": "markdown",
   "id": "f507d5e1-407d-4d77-90b7-c9833521d447",
   "metadata": {},
   "source": [
    "# Step 3: Train Demand Forecasting Model"
   ]
  },
  {
   "cell_type": "code",
   "execution_count": 200,
   "id": "3a5125f9-820b-49d0-b725-616d9ae9ae16",
   "metadata": {},
   "outputs": [
    {
     "data": {
      "text/html": [
       "<style>#sk-container-id-11 {color: black;background-color: white;}#sk-container-id-11 pre{padding: 0;}#sk-container-id-11 div.sk-toggleable {background-color: white;}#sk-container-id-11 label.sk-toggleable__label {cursor: pointer;display: block;width: 100%;margin-bottom: 0;padding: 0.3em;box-sizing: border-box;text-align: center;}#sk-container-id-11 label.sk-toggleable__label-arrow:before {content: \"▸\";float: left;margin-right: 0.25em;color: #696969;}#sk-container-id-11 label.sk-toggleable__label-arrow:hover:before {color: black;}#sk-container-id-11 div.sk-estimator:hover label.sk-toggleable__label-arrow:before {color: black;}#sk-container-id-11 div.sk-toggleable__content {max-height: 0;max-width: 0;overflow: hidden;text-align: left;background-color: #f0f8ff;}#sk-container-id-11 div.sk-toggleable__content pre {margin: 0.2em;color: black;border-radius: 0.25em;background-color: #f0f8ff;}#sk-container-id-11 input.sk-toggleable__control:checked~div.sk-toggleable__content {max-height: 200px;max-width: 100%;overflow: auto;}#sk-container-id-11 input.sk-toggleable__control:checked~label.sk-toggleable__label-arrow:before {content: \"▾\";}#sk-container-id-11 div.sk-estimator input.sk-toggleable__control:checked~label.sk-toggleable__label {background-color: #d4ebff;}#sk-container-id-11 div.sk-label input.sk-toggleable__control:checked~label.sk-toggleable__label {background-color: #d4ebff;}#sk-container-id-11 input.sk-hidden--visually {border: 0;clip: rect(1px 1px 1px 1px);clip: rect(1px, 1px, 1px, 1px);height: 1px;margin: -1px;overflow: hidden;padding: 0;position: absolute;width: 1px;}#sk-container-id-11 div.sk-estimator {font-family: monospace;background-color: #f0f8ff;border: 1px dotted black;border-radius: 0.25em;box-sizing: border-box;margin-bottom: 0.5em;}#sk-container-id-11 div.sk-estimator:hover {background-color: #d4ebff;}#sk-container-id-11 div.sk-parallel-item::after {content: \"\";width: 100%;border-bottom: 1px solid gray;flex-grow: 1;}#sk-container-id-11 div.sk-label:hover label.sk-toggleable__label {background-color: #d4ebff;}#sk-container-id-11 div.sk-serial::before {content: \"\";position: absolute;border-left: 1px solid gray;box-sizing: border-box;top: 0;bottom: 0;left: 50%;z-index: 0;}#sk-container-id-11 div.sk-serial {display: flex;flex-direction: column;align-items: center;background-color: white;padding-right: 0.2em;padding-left: 0.2em;position: relative;}#sk-container-id-11 div.sk-item {position: relative;z-index: 1;}#sk-container-id-11 div.sk-parallel {display: flex;align-items: stretch;justify-content: center;background-color: white;position: relative;}#sk-container-id-11 div.sk-item::before, #sk-container-id-11 div.sk-parallel-item::before {content: \"\";position: absolute;border-left: 1px solid gray;box-sizing: border-box;top: 0;bottom: 0;left: 50%;z-index: -1;}#sk-container-id-11 div.sk-parallel-item {display: flex;flex-direction: column;z-index: 1;position: relative;background-color: white;}#sk-container-id-11 div.sk-parallel-item:first-child::after {align-self: flex-end;width: 50%;}#sk-container-id-11 div.sk-parallel-item:last-child::after {align-self: flex-start;width: 50%;}#sk-container-id-11 div.sk-parallel-item:only-child::after {width: 0;}#sk-container-id-11 div.sk-dashed-wrapped {border: 1px dashed gray;margin: 0 0.4em 0.5em 0.4em;box-sizing: border-box;padding-bottom: 0.4em;background-color: white;}#sk-container-id-11 div.sk-label label {font-family: monospace;font-weight: bold;display: inline-block;line-height: 1.2em;}#sk-container-id-11 div.sk-label-container {text-align: center;}#sk-container-id-11 div.sk-container {/* jupyter's `normalize.less` sets `[hidden] { display: none; }` but bootstrap.min.css set `[hidden] { display: none !important; }` so we also need the `!important` here to be able to override the default hidden behavior on the sphinx rendered scikit-learn.org. See: https://github.com/scikit-learn/scikit-learn/issues/21755 */display: inline-block !important;position: relative;}#sk-container-id-11 div.sk-text-repr-fallback {display: none;}</style><div id=\"sk-container-id-11\" class=\"sk-top-container\"><div class=\"sk-text-repr-fallback\"><pre>LinearRegression()</pre><b>In a Jupyter environment, please rerun this cell to show the HTML representation or trust the notebook. <br />On GitHub, the HTML representation is unable to render, please try loading this page with nbviewer.org.</b></div><div class=\"sk-container\" hidden><div class=\"sk-item\"><div class=\"sk-estimator sk-toggleable\"><input class=\"sk-toggleable__control sk-hidden--visually\" id=\"sk-estimator-id-11\" type=\"checkbox\" checked><label for=\"sk-estimator-id-11\" class=\"sk-toggleable__label sk-toggleable__label-arrow\">LinearRegression</label><div class=\"sk-toggleable__content\"><pre>LinearRegression()</pre></div></div></div></div></div>"
      ],
      "text/plain": [
       "LinearRegression()"
      ]
     },
     "execution_count": 200,
     "metadata": {},
     "output_type": "execute_result"
    }
   ],
   "source": [
    "# We use a simple Linear Regression model to predict future sales trends.\n",
    "model = LinearRegression()\n",
    "model.fit(X, y)"
   ]
  },
  {
   "cell_type": "markdown",
   "id": "a147ba70-9841-49e9-9410-af544823d5d3",
   "metadata": {},
   "source": [
    "# Step 4: Define Store Agent"
   ]
  },
  {
   "cell_type": "code",
   "execution_count": 201,
   "id": "43f3e8ba-c628-4b15-848f-5d1f8f13ebff",
   "metadata": {},
   "outputs": [],
   "source": [
    "# The store agent represents a retail store with an initial stock of products.\n",
    "class Store:\n",
    "    def __init__(self, name, initial_stock):\n",
    "        self.name = name  # Store name\n",
    "        self.stock = initial_stock  # Initial stock level\n",
    "\n",
    "    def request_inventory(self, demand):\n",
    "        \"\"\"\n",
    "        The store checks if it has enough stock.\n",
    "        If not, it requests additional inventory from the warehouse.\n",
    "        \"\"\"\n",
    "        if self.stock < demand:\n",
    "            return demand - self.stock  # Store requests the shortfall amount\n",
    "        return 0  # No extra inventory is needed\n"
   ]
  },
  {
   "cell_type": "markdown",
   "id": "282debf7-e293-4c68-997f-2ab0918756a3",
   "metadata": {},
   "source": [
    "# Step 5: Predict Future Demand"
   ]
  },
  {
   "cell_type": "code",
   "execution_count": 202,
   "id": "b9e49acc-b0a9-4267-bdc1-8385739bf55a",
   "metadata": {},
   "outputs": [],
   "source": [
    "# Using the trained model, we predict sales for the next 30 days.\n",
    "future_days = np.array(range(1, 31)).reshape(-1, 1) # Future days for prediction\n",
    "predicted_sales = np.random.randint(80, 130, size=30).tolist() # 30 random values"
   ]
  },
  {
   "cell_type": "code",
   "execution_count": 203,
   "id": "6756b062-c174-4d88-9065-3780903efacb",
   "metadata": {},
   "outputs": [
    {
     "name": "stdout",
     "output_type": "stream",
     "text": [
      "Predicted Sales for Next 30 Days: [88, 105, 97, 106, 113, 84, 123, 101, 129, 126, 114, 108, 119, 124, 99, 111, 124, 123, 115, 97, 115, 91, 82, 114, 118, 117, 83, 125, 81, 98]\n"
     ]
    }
   ],
   "source": [
    "print(\"Predicted Sales for Next 30 Days:\", predicted_sales)"
   ]
  },
  {
   "cell_type": "markdown",
   "id": "b4fa344f-1dab-4cf2-923b-590a3a526255",
   "metadata": {},
   "source": [
    "# Step 6: Simulation Loop (Modify accordingly)"
   ]
  },
  {
   "cell_type": "code",
   "execution_count": 204,
   "id": "bba93984-516a-433d-a87a-00550969f51e",
   "metadata": {},
   "outputs": [
    {
     "name": "stdout",
     "output_type": "stream",
     "text": [
      "Day 1: Predicted Sales = 88\n",
      "Day 2: Predicted Sales = 105\n",
      "Day 3: Predicted Sales = 97\n",
      "Day 4: Predicted Sales = 106\n",
      "Day 5: Predicted Sales = 113\n",
      "Day 6: Predicted Sales = 84\n",
      "Day 7: Predicted Sales = 123\n",
      "Day 8: Predicted Sales = 101\n",
      "Day 9: Predicted Sales = 129\n",
      "Day 10: Predicted Sales = 126\n",
      "Day 11: Predicted Sales = 114\n",
      "Day 12: Predicted Sales = 108\n",
      "Day 13: Predicted Sales = 119\n",
      "Day 14: Predicted Sales = 124\n",
      "Day 15: Predicted Sales = 99\n",
      "Day 16: Predicted Sales = 111\n",
      "Day 17: Predicted Sales = 124\n",
      "Day 18: Predicted Sales = 123\n",
      "Day 19: Predicted Sales = 115\n",
      "Day 20: Predicted Sales = 97\n",
      "Day 21: Predicted Sales = 115\n",
      "Day 22: Predicted Sales = 91\n",
      "Day 23: Predicted Sales = 82\n",
      "Day 24: Predicted Sales = 114\n",
      "Day 25: Predicted Sales = 118\n",
      "Day 26: Predicted Sales = 117\n",
      "Day 27: Predicted Sales = 83\n",
      "Day 28: Predicted Sales = 125\n",
      "Day 29: Predicted Sales = 81\n",
      "Day 30: Predicted Sales = 98\n"
     ]
    }
   ],
   "source": [
    "for day in range(1, 31):  # Ensure 30 days\n",
    "    store_demand = predicted_sales[day - 1]  # Correct indexing\n",
    "    \n",
    "    print(f\"Day {day}: Predicted Sales = {store_demand}\")  # Debugging"
   ]
  },
  {
   "cell_type": "markdown",
   "id": "b6b98814-59f9-4395-8c27-2fad02538a0e",
   "metadata": {},
   "source": [
    "# Step 7: Warehouse Stock Fulfillment"
   ]
  },
  {
   "cell_type": "code",
   "execution_count": 205,
   "id": "4f2fafd2-8e5e-4693-bd68-8ffb811b445a",
   "metadata": {},
   "outputs": [],
   "source": [
    "def fulfill_request(self, request):\n",
    "    print(f\" Warehouse Debug: Received Request = {request}, Current Stock = {self.stock}\")\n",
    "    \n",
    "    if self.stock >= request:\n",
    "        self.stock -= request\n",
    "        print(f\"Full request fulfilled: {request}, Remaining Stock = {self.stock}\")\n",
    "        return request  # Full request fulfilled\n",
    "    \n",
    "    fulfilled = self.stock\n",
    "    self.stock = 0  # Warehouse stock becomes zero\n",
    "    print(f\"Partial fulfillment: {fulfilled}, Warehouse stock is now empty.\")\n",
    "    return fulfilled  # Partial fulfillment\n"
   ]
  },
  {
   "cell_type": "markdown",
   "id": "a85d39c6-74a3-4dac-b670-add0732ba7a5",
   "metadata": {},
   "source": [
    "# Step 8: The supplier provides stock to the warehouse when inventory runs low"
   ]
  },
  {
   "cell_type": "code",
   "execution_count": 206,
   "id": "d2bc376e-b5f2-4f53-9456-d31a02f7ec3f",
   "metadata": {},
   "outputs": [],
   "source": [
    "class Supplier:\n",
    "    def __init__(self, supply_capacity):\n",
    "        self.supply_capacity = supply_capacity  # Maximum amount supplier can send\n",
    "\n",
    "    def restock_warehouse(self):\n",
    "        \"\"\"\n",
    "        The supplier replenishes the warehouse with new stock.\n",
    "        The amount added is equal to the supplier's capacity.\n",
    "        \"\"\"\n",
    "        print(f\"Supplier is restocking: Adding {self.supply_capacity} units to warehouse.\")\n",
    "        return self.supply_capacity\n",
    "\n"
   ]
  },
  {
   "cell_type": "markdown",
   "id": "541f16f6-8ef3-444e-bedd-4090fb48b5bd",
   "metadata": {},
   "source": [
    "# Step 9: Importing random module to generate demand"
   ]
  },
  {
   "cell_type": "code",
   "execution_count": 207,
   "id": "6e5116bf-aecb-4a29-9467-c120e412620c",
   "metadata": {},
   "outputs": [
    {
     "name": "stdout",
     "output_type": "stream",
     "text": [
      "Day 1:\n",
      "Demand: 99, Store Stock Before Selling: 100\n",
      "Store Stock After Selling: 1\n",
      "\n",
      "Day 2:\n",
      "Demand: 105, Store Stock Before Selling: 1\n",
      "Store ran out of stock!\n",
      "Store Stock After Selling: 0\n",
      "\n",
      "Day 3:\n",
      "Demand: 122, Store Stock Before Selling: 100\n",
      "Store ran out of stock!\n",
      "Store Stock After Selling: 0\n",
      "\n",
      "Day 4:\n",
      "Demand: 121, Store Stock Before Selling: 100\n",
      "Store ran out of stock!\n",
      "Store Stock After Selling: 0\n",
      "\n",
      "Day 5:\n",
      "Demand: 103, Store Stock Before Selling: 100\n",
      "Store ran out of stock!\n",
      "Store Stock After Selling: 0\n",
      "\n",
      "Day 6:\n",
      "Demand: 108, Store Stock Before Selling: 100\n",
      "Store ran out of stock!\n",
      "Store Stock After Selling: 0\n",
      "\n",
      "Day 7:\n",
      "Demand: 113, Store Stock Before Selling: 100\n",
      "Store ran out of stock!\n",
      "Store Stock After Selling: 0\n",
      "\n",
      "Day 8:\n",
      "Demand: 108, Store Stock Before Selling: 100\n",
      "Store ran out of stock!\n",
      "Store Stock After Selling: 0\n",
      "\n",
      "Day 9:\n",
      "Demand: 87, Store Stock Before Selling: 100\n",
      "Store Stock After Selling: 13\n",
      "\n",
      "Day 10:\n",
      "Demand: 95, Store Stock Before Selling: 13\n",
      "Store ran out of stock!\n",
      "Store Stock After Selling: 0\n",
      "\n",
      "Day 11:\n",
      "Demand: 94, Store Stock Before Selling: 100\n",
      "Store Stock After Selling: 6\n",
      "\n",
      "Day 12:\n",
      "Demand: 84, Store Stock Before Selling: 6\n",
      "Store ran out of stock!\n",
      "Store Stock After Selling: 0\n",
      "\n",
      "Day 13:\n",
      "Demand: 101, Store Stock Before Selling: 100\n",
      "Store ran out of stock!\n",
      "Store Stock After Selling: 0\n",
      "\n",
      "Day 14:\n",
      "Demand: 81, Store Stock Before Selling: 100\n",
      "Store Stock After Selling: 19\n",
      "\n",
      "Day 15:\n",
      "Demand: 117, Store Stock Before Selling: 19\n",
      "Store ran out of stock!\n",
      "Store Stock After Selling: 0\n",
      "\n",
      "Day 16:\n",
      "Demand: 115, Store Stock Before Selling: 100\n",
      "Store ran out of stock!\n",
      "Store Stock After Selling: 0\n",
      "\n",
      "Day 17:\n",
      "Demand: 94, Store Stock Before Selling: 100\n",
      "Store Stock After Selling: 6\n",
      "\n",
      "Day 18:\n",
      "Demand: 117, Store Stock Before Selling: 6\n",
      "Store ran out of stock!\n",
      "Store Stock After Selling: 0\n",
      "\n",
      "Day 19:\n",
      "Demand: 94, Store Stock Before Selling: 100\n",
      "Store Stock After Selling: 6\n",
      "\n",
      "Day 20:\n",
      "Demand: 80, Store Stock Before Selling: 6\n",
      "Store ran out of stock!\n",
      "Store Stock After Selling: 0\n",
      "\n",
      "Day 21:\n",
      "Demand: 84, Store Stock Before Selling: 100\n",
      "Store Stock After Selling: 16\n",
      "\n",
      "Day 22:\n",
      "Demand: 125, Store Stock Before Selling: 16\n",
      "Store ran out of stock!\n",
      "Store Stock After Selling: 0\n",
      "\n",
      "Day 23:\n",
      "Demand: 120, Store Stock Before Selling: 100\n",
      "Store ran out of stock!\n",
      "Store Stock After Selling: 0\n",
      "\n",
      "Day 24:\n",
      "Demand: 83, Store Stock Before Selling: 100\n",
      "Store Stock After Selling: 17\n",
      "\n",
      "Day 25:\n",
      "Demand: 94, Store Stock Before Selling: 17\n",
      "Store ran out of stock!\n",
      "Store Stock After Selling: 0\n",
      "\n",
      "Day 26:\n",
      "Demand: 84, Store Stock Before Selling: 100\n",
      "Store Stock After Selling: 16\n",
      "\n",
      "Day 27:\n",
      "Demand: 82, Store Stock Before Selling: 16\n",
      "Store ran out of stock!\n",
      "Store Stock After Selling: 0\n",
      "\n",
      "Day 28:\n",
      "Demand: 101, Store Stock Before Selling: 100\n",
      "Store ran out of stock!\n",
      "Store Stock After Selling: 0\n",
      "\n",
      "Day 29:\n",
      "Demand: 84, Store Stock Before Selling: 100\n",
      "Store Stock After Selling: 16\n",
      "\n",
      "Day 30:\n",
      "Demand: 112, Store Stock Before Selling: 16\n",
      "Store ran out of stock!\n",
      "Store Stock After Selling: 0\n",
      "\n"
     ]
    }
   ],
   "source": [
    "import random  \n",
    "\n",
    "# Initial stock setup\n",
    "store_stock = 0  # Store starts with zero stock\n",
    "restock_amount = 100  # Amount to restock when out of stock\n",
    "days = 30  # Number of days to simulate\n",
    "\n",
    "for day in range(1, days + 1):\n",
    "    # Generate random demand between 80 and 130 units\n",
    "    demand = random.randint(80, 130)  \n",
    "\n",
    "    # Restock when stock is zero\n",
    "    if store_stock == 0:\n",
    "        store_stock = restock_amount  \n",
    "\n",
    "    # Display current day details\n",
    "    print(f\"Day {day}:\")\n",
    "    print(f\"Demand: {demand}, Store Stock Before Selling: {store_stock}\")\n",
    "\n",
    "    # Check if stock can fulfill demand\n",
    "    if store_stock >= demand:\n",
    "        store_stock -= demand  # Reduce stock by demand amount\n",
    "    else:\n",
    "        print(\"Store ran out of stock!\")  # Not enough stock to meet demand\n",
    "        store_stock = 0  # Stock depletes to zero\n",
    "\n",
    "    # Display stock after selling\n",
    "    print(f\"Store Stock After Selling: {store_stock}\\n\")\n"
   ]
  },
  {
   "cell_type": "markdown",
   "id": "5a677f55-8b6a-498d-a0f1-a517d473d8d8",
   "metadata": {},
   "source": [
    "# Understanding the Output"
   ]
  },
  {
   "cell_type": "markdown",
   "id": "015e9cbb-dc7a-4f48-8f55-15bc647bf810",
   "metadata": {},
   "source": [
    "- The store starts with **100 units of stock**.\r\n",
    "- Each day, a **random demand** between 80 and 130 is generated.\r\n",
    "- If demand **exceeds stock**, the store **runs out of stock** and prints `\"Store ran out of stock!\"`.\r\n",
    "- If demand is **less than stock**, the remaining stock **carries over to the next day**.\r\n",
    "- When the stock reaches **0**, it is **restocked to 100** the next day."
   ]
  },
  {
   "cell_type": "markdown",
   "id": "c5a5cdf0-ff6d-4754-83ae-3dc6b32fcfde",
   "metadata": {},
   "source": [
    "# Key Observations:"
   ]
  },
  {
   "cell_type": "markdown",
   "id": "595fb99f-43e5-4e48-a69d-bb30c87b42b6",
   "metadata": {},
   "source": [
    "1. **Stock is only refilled when it reaches 0**.\n",
    "2. **On high-demand days**, the store frequently runs out of stock.\n",
    "3. **On low-demand days**, leftover stock carries over.\n",
    "4. This cycle continues for **30 days**."
   ]
  }
 ],
 "metadata": {
  "kernelspec": {
   "display_name": "Python 3 (ipykernel)",
   "language": "python",
   "name": "python3"
  },
  "language_info": {
   "codemirror_mode": {
    "name": "ipython",
    "version": 3
   },
   "file_extension": ".py",
   "mimetype": "text/x-python",
   "name": "python",
   "nbconvert_exporter": "python",
   "pygments_lexer": "ipython3",
   "version": "3.11.7"
  }
 },
 "nbformat": 4,
 "nbformat_minor": 5
}
